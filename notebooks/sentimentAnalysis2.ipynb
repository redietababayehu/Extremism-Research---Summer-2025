{
 "cells": [
  {
   "cell_type": "code",
   "execution_count": 45,
   "id": "65d43640",
   "metadata": {},
   "outputs": [
    {
     "name": "stdout",
     "output_type": "stream",
     "text": [
      "   rank     video_id                                              title  \\\n",
      "0     1  rzIVd35dGZ4  Terror and Tragedy: IDF releases shocking unse...   \n",
      "1     1  rzIVd35dGZ4  Terror and Tragedy: IDF releases shocking unse...   \n",
      "\n",
      "  channel_name                  comment_id  \\\n",
      "0     ANI News  UgwFO1jEbDcigT0orYl4AaABAg   \n",
      "1     ANI News  UgxkHDJ2nYj3Y4rTGX14AaABAg   \n",
      "\n",
      "                                                text parent_id  \\\n",
      "0  Bismilahrahmanrahim İslam'ın en azından çocukl...      root   \n",
      "1                     STUPID LOOP that shows NOTHING      root   \n",
      "\n",
      "           author         author_channel_id  likes  ... compound  anger_score  \\\n",
      "0  @necdettok2935  UCJtu4N2m5RKD22Hf7T0Efcw      0  ...   0.0000     0.131780   \n",
      "1      @punapeter  UCCyq9ZDntJqdbrLaVepVaMg      1  ...  -0.6289     0.064972   \n",
      "\n",
      "   disgust_score  fear_score  joy_score  neutral_score  sadness_score  \\\n",
      "0       0.047135    0.540039   0.020078       0.193388       0.038085   \n",
      "1       0.045874    0.007189   0.001827       0.758344       0.075588   \n",
      "\n",
      "   surprise_score  emotion  sentiment_class  \n",
      "0        0.029495     fear          neutral  \n",
      "1        0.046205  neutral         negative  \n",
      "\n",
      "[2 rows x 24 columns]\n"
     ]
    }
   ],
   "source": [
    "import pandas as pd\n",
    "import networkx as nx\n",
    "import matplotlib.pyplot as plt\n",
    "\n",
    "df = pd.read_csv('youtube_comments_final.csv')\n",
    "print(df.head(2))"
   ]
  },
  {
   "cell_type": "markdown",
   "id": "272a1356",
   "metadata": {},
   "source": [
    "Now that the csv file has been read, we can build a graph using the information gathered\n"
   ]
  },
  {
   "cell_type": "code",
   "execution_count": 46,
   "id": "ff454832",
   "metadata": {},
   "outputs": [],
   "source": [
    "\n",
    "G = nx.DiGraph()\n",
    "for _, row in df.iterrows():\n",
    "    comment_id = row['comment_id']\n",
    "    sentiment = row['sentiment_class']\n",
    "    emotion = row['emotion']\n",
    "    G.add_node(comment_id, sentiment=sentiment, emotion=emotion)\n",
    "\n",
    "for _, row in df.iterrows():\n",
    "    comment_id = row['comment_id']\n",
    "    parent_id = row['parent_id']\n",
    "    if pd.notna(parent_id):\n",
    "        # If parent isn't in the dataset, add it with placeholder attributes\n",
    "        if parent_id not in G:\n",
    "            G.add_node(parent_id, sentiment=None, emotion=None)\n",
    "        G.add_edge(parent_id, comment_id)"
   ]
  },
  {
   "cell_type": "markdown",
   "id": "ef135c0e",
   "metadata": {},
   "source": [
    "Now we can analyze the propagation of the sentiment\n"
   ]
  },
  {
   "cell_type": "code",
   "execution_count": 47,
   "id": "c3805b0d",
   "metadata": {},
   "outputs": [],
   "source": [
    "for root in [n for n, d in G.in_degree() if d == 0]:\n",
    "    descendants = nx.descendants(G, root)\n",
    "    root_sentiment = G.nodes[root]['sentiment']\n",
    "    root_emotion = G.nodes[root]['emotion']\n",
    "    \n",
    "    # Skip roots with missing sentiment\n",
    "    if root_sentiment is None and root_emotion is None:\n",
    "        continue\n",
    "    \n",
    "    sentiments = [G.nodes[n]['sentiment'] for n in descendants if G.nodes[n]['sentiment'] is not None]\n",
    "    emotions = [G.nodes[n]['emotion'] for n in descendants if G.nodes[n]['emotion'] is not None]\n",
    "\n",
    "    print(f\"\\nRoot Comment {root} (Sentiment: {root_sentiment}, Emotion: {root_emotion}):\")\n",
    "    print(\"Sentiment distribution among replies:\")\n",
    "    print(pd.Series(sentiments).value_counts())\n",
    "    print(\"Emotion distribution among replies:\")\n",
    "    print(pd.Series(emotions).value_counts())\n",
    "    "
   ]
  },
  {
   "cell_type": "markdown",
   "id": "08228f6d",
   "metadata": {},
   "source": [
    "Now that we have all of the sentiments and emotions analyzed, we can visualize them using matplotlib\n"
   ]
  },
  {
   "cell_type": "code",
   "execution_count": 48,
   "id": "69b2ff36",
   "metadata": {},
   "outputs": [
    {
     "ename": "ModuleNotFoundError",
     "evalue": "No module named 'scipy'",
     "output_type": "error",
     "traceback": [
      "\u001b[31m---------------------------------------------------------------------------\u001b[39m",
      "\u001b[31mModuleNotFoundError\u001b[39m                       Traceback (most recent call last)",
      "\u001b[36mCell\u001b[39m\u001b[36m \u001b[39m\u001b[32mIn[48]\u001b[39m\u001b[32m, line 2\u001b[39m\n\u001b[32m      1\u001b[39m plt.figure(figsize=(\u001b[32m12\u001b[39m,\u001b[32m8\u001b[39m))\n\u001b[32m----> \u001b[39m\u001b[32m2\u001b[39m pos = \u001b[43mnx\u001b[49m\u001b[43m.\u001b[49m\u001b[43mspring_layout\u001b[49m\u001b[43m(\u001b[49m\u001b[43mG\u001b[49m\u001b[43m,\u001b[49m\u001b[43m \u001b[49m\u001b[43mk\u001b[49m\u001b[43m=\u001b[49m\u001b[32;43m0.5\u001b[39;49m\u001b[43m)\u001b[49m\n\u001b[32m      4\u001b[39m \u001b[38;5;66;03m# Color nodes by emotion\u001b[39;00m\n\u001b[32m      5\u001b[39m emotion_colors = {\n\u001b[32m      6\u001b[39m     \u001b[33m'\u001b[39m\u001b[33manger\u001b[39m\u001b[33m'\u001b[39m: \u001b[33m'\u001b[39m\u001b[33mred\u001b[39m\u001b[33m'\u001b[39m,\n\u001b[32m      7\u001b[39m     \u001b[33m'\u001b[39m\u001b[33mdisgust\u001b[39m\u001b[33m'\u001b[39m: \u001b[33m'\u001b[39m\u001b[33mbrown\u001b[39m\u001b[33m'\u001b[39m,\n\u001b[32m   (...)\u001b[39m\u001b[32m     12\u001b[39m     \u001b[33m'\u001b[39m\u001b[33msurprise\u001b[39m\u001b[33m'\u001b[39m: \u001b[33m'\u001b[39m\u001b[33morange\u001b[39m\u001b[33m'\u001b[39m\n\u001b[32m     13\u001b[39m }\n",
      "\u001b[36mFile \u001b[39m\u001b[32m<class 'networkx.utils.decorators.argmap'> compilation 16:4\u001b[39m, in \u001b[36margmap_spring_layout_13\u001b[39m\u001b[34m(G, k, pos, fixed, iterations, threshold, weight, scale, center, dim, seed)\u001b[39m\n\u001b[32m      2\u001b[39m \u001b[38;5;28;01mimport\u001b[39;00m\u001b[38;5;250m \u001b[39m\u001b[34;01mcollections\u001b[39;00m\n\u001b[32m      3\u001b[39m \u001b[38;5;28;01mimport\u001b[39;00m\u001b[38;5;250m \u001b[39m\u001b[34;01mgzip\u001b[39;00m\n\u001b[32m----> \u001b[39m\u001b[32m4\u001b[39m \u001b[38;5;28;01mimport\u001b[39;00m\u001b[38;5;250m \u001b[39m\u001b[34;01minspect\u001b[39;00m\n\u001b[32m      5\u001b[39m \u001b[38;5;28;01mimport\u001b[39;00m\u001b[38;5;250m \u001b[39m\u001b[34;01mitertools\u001b[39;00m\n\u001b[32m      6\u001b[39m \u001b[38;5;28;01mimport\u001b[39;00m\u001b[38;5;250m \u001b[39m\u001b[34;01mre\u001b[39;00m\n",
      "\u001b[36mFile \u001b[39m\u001b[32mc:\\Users\\abeba\\OneDrive\\Desktop\\Summer Research - Extremism\\.venv\\Lib\\site-packages\\networkx\\drawing\\layout.py:481\u001b[39m, in \u001b[36mspring_layout\u001b[39m\u001b[34m(G, k, pos, fixed, iterations, threshold, weight, scale, center, dim, seed)\u001b[39m\n\u001b[32m    479\u001b[39m \u001b[38;5;28;01mif\u001b[39;00m \u001b[38;5;28mlen\u001b[39m(G) < \u001b[32m500\u001b[39m:  \u001b[38;5;66;03m# sparse solver for large graphs\u001b[39;00m\n\u001b[32m    480\u001b[39m     \u001b[38;5;28;01mraise\u001b[39;00m \u001b[38;5;167;01mValueError\u001b[39;00m\n\u001b[32m--> \u001b[39m\u001b[32m481\u001b[39m A = \u001b[43mnx\u001b[49m\u001b[43m.\u001b[49m\u001b[43mto_scipy_sparse_array\u001b[49m\u001b[43m(\u001b[49m\u001b[43mG\u001b[49m\u001b[43m,\u001b[49m\u001b[43m \u001b[49m\u001b[43mweight\u001b[49m\u001b[43m=\u001b[49m\u001b[43mweight\u001b[49m\u001b[43m,\u001b[49m\u001b[43m \u001b[49m\u001b[43mdtype\u001b[49m\u001b[43m=\u001b[49m\u001b[33;43m\"\u001b[39;49m\u001b[33;43mf\u001b[39;49m\u001b[33;43m\"\u001b[39;49m\u001b[43m)\u001b[49m\n\u001b[32m    482\u001b[39m \u001b[38;5;28;01mif\u001b[39;00m k \u001b[38;5;129;01mis\u001b[39;00m \u001b[38;5;28;01mNone\u001b[39;00m \u001b[38;5;129;01mand\u001b[39;00m fixed \u001b[38;5;129;01mis\u001b[39;00m \u001b[38;5;129;01mnot\u001b[39;00m \u001b[38;5;28;01mNone\u001b[39;00m:\n\u001b[32m    483\u001b[39m     \u001b[38;5;66;03m# We must adjust k by domain size for layouts not near 1x1\u001b[39;00m\n\u001b[32m    484\u001b[39m     nnodes, _ = A.shape\n",
      "\u001b[36mFile \u001b[39m\u001b[32mc:\\Users\\abeba\\OneDrive\\Desktop\\Summer Research - Extremism\\.venv\\Lib\\site-packages\\networkx\\utils\\decorators.py:788\u001b[39m, in \u001b[36margmap.__call__.<locals>.func\u001b[39m\u001b[34m(_argmap__wrapper, *args, **kwargs)\u001b[39m\n\u001b[32m    787\u001b[39m \u001b[38;5;28;01mdef\u001b[39;00m\u001b[38;5;250m \u001b[39m\u001b[34mfunc\u001b[39m(*args, __wrapper=\u001b[38;5;28;01mNone\u001b[39;00m, **kwargs):\n\u001b[32m--> \u001b[39m\u001b[32m788\u001b[39m     \u001b[38;5;28;01mreturn\u001b[39;00m \u001b[43margmap\u001b[49m\u001b[43m.\u001b[49m\u001b[43m_lazy_compile\u001b[49m\u001b[43m(\u001b[49m\u001b[43m__wrapper\u001b[49m\u001b[43m)\u001b[49m\u001b[43m(\u001b[49m\u001b[43m*\u001b[49m\u001b[43margs\u001b[49m\u001b[43m,\u001b[49m\u001b[43m \u001b[49m\u001b[43m*\u001b[49m\u001b[43m*\u001b[49m\u001b[43mkwargs\u001b[49m\u001b[43m)\u001b[49m\n",
      "\u001b[36mFile \u001b[39m\u001b[32m<class 'networkx.utils.decorators.argmap'> compilation 37:3\u001b[39m, in \u001b[36margmap_to_scipy_sparse_array_34\u001b[39m\u001b[34m(G, nodelist, dtype, weight, format, backend, **backend_kwargs)\u001b[39m\n\u001b[32m      1\u001b[39m \u001b[38;5;28;01mimport\u001b[39;00m\u001b[38;5;250m \u001b[39m\u001b[34;01mbz2\u001b[39;00m\n\u001b[32m      2\u001b[39m \u001b[38;5;28;01mimport\u001b[39;00m\u001b[38;5;250m \u001b[39m\u001b[34;01mcollections\u001b[39;00m\n\u001b[32m----> \u001b[39m\u001b[32m3\u001b[39m \u001b[38;5;28;01mimport\u001b[39;00m\u001b[38;5;250m \u001b[39m\u001b[34;01mgzip\u001b[39;00m\n\u001b[32m      4\u001b[39m \u001b[38;5;28;01mimport\u001b[39;00m\u001b[38;5;250m \u001b[39m\u001b[34;01minspect\u001b[39;00m\n\u001b[32m      5\u001b[39m \u001b[38;5;28;01mimport\u001b[39;00m\u001b[38;5;250m \u001b[39m\u001b[34;01mitertools\u001b[39;00m\n",
      "\u001b[36mFile \u001b[39m\u001b[32mc:\\Users\\abeba\\OneDrive\\Desktop\\Summer Research - Extremism\\.venv\\Lib\\site-packages\\networkx\\utils\\backends.py:967\u001b[39m, in \u001b[36m_dispatchable.__call__\u001b[39m\u001b[34m(self, backend, *args, **kwargs)\u001b[39m\n\u001b[32m    965\u001b[39m     \u001b[38;5;28;01mif\u001b[39;00m backend \u001b[38;5;129;01mis\u001b[39;00m \u001b[38;5;129;01mnot\u001b[39;00m \u001b[38;5;28;01mNone\u001b[39;00m \u001b[38;5;129;01mand\u001b[39;00m backend != \u001b[33m\"\u001b[39m\u001b[33mnetworkx\u001b[39m\u001b[33m\"\u001b[39m:\n\u001b[32m    966\u001b[39m         \u001b[38;5;28;01mraise\u001b[39;00m \u001b[38;5;167;01mImportError\u001b[39;00m(\u001b[33mf\u001b[39m\u001b[33m\"\u001b[39m\u001b[33m'\u001b[39m\u001b[38;5;132;01m{\u001b[39;00mbackend\u001b[38;5;132;01m}\u001b[39;00m\u001b[33m'\u001b[39m\u001b[33m backend is not installed\u001b[39m\u001b[33m\"\u001b[39m)\n\u001b[32m--> \u001b[39m\u001b[32m967\u001b[39m     \u001b[38;5;28;01mreturn\u001b[39;00m \u001b[38;5;28;43mself\u001b[39;49m\u001b[43m.\u001b[49m\u001b[43morig_func\u001b[49m\u001b[43m(\u001b[49m\u001b[43m*\u001b[49m\u001b[43margs\u001b[49m\u001b[43m,\u001b[49m\u001b[43m \u001b[49m\u001b[43m*\u001b[49m\u001b[43m*\u001b[49m\u001b[43mkwargs\u001b[49m\u001b[43m)\u001b[49m\n\u001b[32m    969\u001b[39m \u001b[38;5;66;03m# Use `backend_name` in this function instead of `backend`.\u001b[39;00m\n\u001b[32m    970\u001b[39m \u001b[38;5;66;03m# This is purely for aesthetics and to make it easier to search for this\u001b[39;00m\n\u001b[32m    971\u001b[39m \u001b[38;5;66;03m# variable since \"backend\" is used in many comments and log/error messages.\u001b[39;00m\n\u001b[32m    972\u001b[39m backend_name = backend\n",
      "\u001b[36mFile \u001b[39m\u001b[32mc:\\Users\\abeba\\OneDrive\\Desktop\\Summer Research - Extremism\\.venv\\Lib\\site-packages\\networkx\\convert_matrix.py:665\u001b[39m, in \u001b[36mto_scipy_sparse_array\u001b[39m\u001b[34m(G, nodelist, dtype, weight, format)\u001b[39m\n\u001b[32m    492\u001b[39m \u001b[38;5;129m@nx\u001b[39m._dispatchable(edge_attrs=\u001b[33m\"\u001b[39m\u001b[33mweight\u001b[39m\u001b[33m\"\u001b[39m)\n\u001b[32m    493\u001b[39m \u001b[38;5;28;01mdef\u001b[39;00m\u001b[38;5;250m \u001b[39m\u001b[34mto_scipy_sparse_array\u001b[39m(G, nodelist=\u001b[38;5;28;01mNone\u001b[39;00m, dtype=\u001b[38;5;28;01mNone\u001b[39;00m, weight=\u001b[33m\"\u001b[39m\u001b[33mweight\u001b[39m\u001b[33m\"\u001b[39m, \u001b[38;5;28mformat\u001b[39m=\u001b[33m\"\u001b[39m\u001b[33mcsr\u001b[39m\u001b[33m\"\u001b[39m):\n\u001b[32m    494\u001b[39m \u001b[38;5;250m    \u001b[39m\u001b[33;03m\"\"\"Returns the graph adjacency matrix as a SciPy sparse array.\u001b[39;00m\n\u001b[32m    495\u001b[39m \n\u001b[32m    496\u001b[39m \u001b[33;03m    Parameters\u001b[39;00m\n\u001b[32m   (...)\u001b[39m\u001b[32m    663\u001b[39m \u001b[33;03m       https://docs.scipy.org/doc/scipy/reference/sparse.html\u001b[39;00m\n\u001b[32m    664\u001b[39m \u001b[33;03m    \"\"\"\u001b[39;00m\n\u001b[32m--> \u001b[39m\u001b[32m665\u001b[39m     \u001b[38;5;28;01mimport\u001b[39;00m\u001b[38;5;250m \u001b[39m\u001b[34;01mscipy\u001b[39;00m\u001b[38;5;250m \u001b[39m\u001b[38;5;28;01mas\u001b[39;00m\u001b[38;5;250m \u001b[39m\u001b[34;01msp\u001b[39;00m\n\u001b[32m    667\u001b[39m     \u001b[38;5;28;01mif\u001b[39;00m \u001b[38;5;28mlen\u001b[39m(G) == \u001b[32m0\u001b[39m:\n\u001b[32m    668\u001b[39m         \u001b[38;5;28;01mraise\u001b[39;00m nx.NetworkXError(\u001b[33m\"\u001b[39m\u001b[33mGraph has no nodes or edges\u001b[39m\u001b[33m\"\u001b[39m)\n",
      "\u001b[31mModuleNotFoundError\u001b[39m: No module named 'scipy'"
     ]
    },
    {
     "data": {
      "text/plain": [
       "<Figure size 1200x800 with 0 Axes>"
      ]
     },
     "metadata": {},
     "output_type": "display_data"
    }
   ],
   "source": [
    "plt.figure(figsize=(12,8))\n",
    "pos = nx.spring_layout(G, k=0.5)\n",
    "\n",
    "# Color nodes by emotion\n",
    "emotion_colors = {\n",
    "    'anger': 'red',\n",
    "    'disgust': 'brown',\n",
    "    'fear': 'purple',\n",
    "    'joy': 'yellow',\n",
    "    'neutral': 'gray',\n",
    "    'sadness': 'blue',\n",
    "    'surprise': 'orange'\n",
    "}\n",
    "\n",
    "colors = []\n",
    "for n in G.nodes:\n",
    "    emotion = G.nodes[n]['emotion']\n",
    "    if emotion in emotion_colors:\n",
    "        colors.append(emotion_colors[emotion])\n",
    "    else:\n",
    "        colors.append('lightgray')  # For missing or unknown emotion\n",
    "\n",
    "nx.draw(G, pos, with_labels=False, node_color=colors, node_size=50, edge_color='lightgray', alpha=0.7)\n",
    "plt.title(\"Comment-Reply Graph Colored by Emotion\")\n",
    "plt.show()"
   ]
  },
  {
   "cell_type": "markdown",
   "id": "93657704",
   "metadata": {},
   "source": [
    "Social Network Analysis\n"
   ]
  },
  {
   "cell_type": "code",
   "execution_count": null,
   "id": "69d56efe",
   "metadata": {},
   "outputs": [
    {
     "name": "stdout",
     "output_type": "stream",
     "text": [
      "\n",
      "Top 5 comments by degree centrality:\n",
      "UgzUeyxWQV2TlIvJcgx4AaABAg: 0.6250\n",
      "UgzM6Sz9zSf3OT-ywj54AaABAg: 0.3750\n",
      "root: 0.1250\n",
      "UgzUeyxWQV2TlIvJcgx4AaABAg.A9Inx9ddziEA9IoKwrD5v1: 0.0625\n",
      "UgzUeyxWQV2TlIvJcgx4AaABAg.A9Inx9ddziEA9IzbcBgg7p: 0.0625\n"
     ]
    }
   ],
   "source": [
    "centrality = nx.degree_centrality(G)\n",
    "betweenness = nx.betweenness_centrality(G)\n",
    "print(\"\\nTop 5 comments by degree centrality:\")\n",
    "for node, cent in sorted(centrality.items(), key=lambda x: x[1], reverse=True)[:5]:\n",
    "    print(f\"{node}: {cent:.4f}\")"
   ]
  }
 ],
 "metadata": {
  "kernelspec": {
   "display_name": ".venv",
   "language": "python",
   "name": "python3"
  },
  "language_info": {
   "codemirror_mode": {
    "name": "ipython",
    "version": 3
   },
   "file_extension": ".py",
   "mimetype": "text/x-python",
   "name": "python",
   "nbconvert_exporter": "python",
   "pygments_lexer": "ipython3",
   "version": "3.13.2"
  }
 },
 "nbformat": 4,
 "nbformat_minor": 5
}
